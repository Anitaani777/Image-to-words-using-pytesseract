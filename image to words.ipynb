{
 "cells": [
  {
   "cell_type": "code",
   "execution_count": 15,
   "id": "9e14fa7c",
   "metadata": {},
   "outputs": [],
   "source": [
    "# adds image processing capabilities\n",
    "from PIL import Image\n",
    "import pytesseract\n",
    "import cv2\n",
    "from gtts import gTTS\n",
    "import os\n",
    "from gtts import gTTS\n",
    "import os"
   ]
  },
  {
   "cell_type": "code",
   "execution_count": 16,
   "id": "f9adc8f0",
   "metadata": {},
   "outputs": [],
   "source": [
    "pytesseract.pytesseract.tesseract_cmd = '/Users/anitateladevalapalli/opt/anaconda3/envs/tesseract/bin/tesseract'"
   ]
  },
  {
   "cell_type": "code",
   "execution_count": 17,
   "id": "3660f20f",
   "metadata": {},
   "outputs": [],
   "source": [
    "img = Image.open('image location')# give the image location\n",
    "result = pytesseract.image_to_string(img)"
   ]
  },
  {
   "cell_type": "code",
   "execution_count": 18,
   "id": "c8c04b17",
   "metadata": {},
   "outputs": [
    {
     "name": "stdout",
     "output_type": "stream",
     "text": [
      "br University of Colorado Boulder\n",
      "Lard\n",
      "\n",
      "ANITA TELADEVALAPALLI\n",
      "\n",
      "6014235006552114\n",
      "\n",
      "ISSUED: 07/22/2021\n",
      "\n",
      "EXPIRES 5 YEARS AFTER ISSUE\n",
      "\n",
      " \n",
      "\n"
     ]
    }
   ],
   "source": [
    "print(result)"
   ]
  },
  {
   "cell_type": "code",
   "execution_count": 28,
   "id": "d764fe51",
   "metadata": {},
   "outputs": [
    {
     "name": "stdout",
     "output_type": "stream",
     "text": [
      "<class 'list'>\n"
     ]
    }
   ],
   "source": [
    "type(result)\n",
    "output = result.split(\"\\n\")\n",
    "print(type(output))"
   ]
  },
  {
   "cell_type": "code",
   "execution_count": 19,
   "id": "317422ee",
   "metadata": {},
   "outputs": [],
   "source": [
    "img = cv2.imread('image location')# give the image loc\n"
   ]
  },
  {
   "cell_type": "code",
   "execution_count": 20,
   "id": "b9f26955",
   "metadata": {},
   "outputs": [],
   "source": [
    "img = cv2.resize(img, (600, 360))\n",
    "hImg, wImg, _ = img.shape"
   ]
  },
  {
   "cell_type": "code",
   "execution_count": 21,
   "id": "53880d0f",
   "metadata": {},
   "outputs": [],
   "source": [
    "boxes = pytesseract.image_to_boxes(img)\n",
    "xy = pytesseract.image_to_string(img)\n",
    "for b in boxes.splitlines():\n",
    "    b = b.split(' ')\n",
    "  "
   ]
  },
  {
   "cell_type": "code",
   "execution_count": 22,
   "id": "19633ce5",
   "metadata": {},
   "outputs": [
    {
     "data": {
      "text/plain": [
       "array([[[128, 117, 109],\n",
       "        [135, 124, 116],\n",
       "        [152, 142, 134],\n",
       "        ...,\n",
       "        [120, 161, 177],\n",
       "        [143, 154, 158],\n",
       "        [147, 141, 135]],\n",
       "\n",
       "       [[122, 113, 104],\n",
       "        [117, 108,  99],\n",
       "        [126, 117, 108],\n",
       "        ...,\n",
       "        [122, 167, 185],\n",
       "        [145, 161, 167],\n",
       "        [144, 141, 139]],\n",
       "\n",
       "       [[130, 126, 117],\n",
       "        [113, 109, 100],\n",
       "        [110, 103,  96],\n",
       "        ...,\n",
       "        [122, 174, 197],\n",
       "        [148, 171, 181],\n",
       "        [150, 154, 155]],\n",
       "\n",
       "       ...,\n",
       "\n",
       "       [[ 29,  32,  37],\n",
       "        [ 31,  34,  39],\n",
       "        [ 29,  31,  39],\n",
       "        ...,\n",
       "        [ 98, 187, 216],\n",
       "        [ 99, 188, 218],\n",
       "        [105, 194, 224]],\n",
       "\n",
       "       [[ 26,  29,  33],\n",
       "        [ 28,  31,  36],\n",
       "        [ 30,  31,  40],\n",
       "        ...,\n",
       "        [ 99, 188, 215],\n",
       "        [ 97, 186, 213],\n",
       "        [ 99, 186, 213]],\n",
       "\n",
       "       [[ 31,  34,  38],\n",
       "        [ 33,  35,  41],\n",
       "        [ 34,  36,  44],\n",
       "        ...,\n",
       "        [101, 190, 217],\n",
       "        [ 95, 184, 211],\n",
       "        [ 99, 185, 212]]], dtype=uint8)"
      ]
     },
     "execution_count": 22,
     "metadata": {},
     "output_type": "execute_result"
    }
   ],
   "source": [
    "x, y, w, h = int(b[1]), int(b[2]), int(b[3]), int(b[4])\n",
    "cv2.rectangle(img, (x, hImg - y), (w, hImg - h), (50, 50, 255), 1)\n",
    "cv2.putText(img, b[0], (x, hImg - y + 13), cv2.FONT_HERSHEY_SIMPLEX, 0.4, (50, 205, 50), 1)\n"
   ]
  },
  {
   "cell_type": "code",
   "execution_count": 23,
   "id": "ede4c94e",
   "metadata": {},
   "outputs": [],
   "source": [
    "cv2.imshow('Detected text', img)\n"
   ]
  },
  {
   "cell_type": "code",
   "execution_count": 24,
   "id": "77b860a3",
   "metadata": {},
   "outputs": [
    {
     "name": "stderr",
     "output_type": "stream",
     "text": [
      "sh: /Users/anitateladevalapalli/Downloads/saved_audio.wav: Permission denied\n"
     ]
    },
    {
     "data": {
      "text/plain": [
       "32256"
      ]
     },
     "execution_count": 24,
     "metadata": {},
     "output_type": "execute_result"
    }
   ],
   "source": [
    "audio = gTTS(text = xy, lang = 'en', slow = False)\n",
    "audio.save(\"/Users/anitateladevalapalli/Downloads/saved_audio.wav\")# where to save\n",
    "os.system(\"/Users/anitateladevalapalli/Downloads/saved_audio.wav\")"
   ]
  },
  {
   "cell_type": "code",
   "execution_count": null,
   "id": "0ea02d2d",
   "metadata": {},
   "outputs": [],
   "source": []
  }
 ],
 "metadata": {
  "kernelspec": {
   "display_name": "Python 3 (ipykernel)",
   "language": "python",
   "name": "python3"
  },
  "language_info": {
   "codemirror_mode": {
    "name": "ipython",
    "version": 3
   },
   "file_extension": ".py",
   "mimetype": "text/x-python",
   "name": "python",
   "nbconvert_exporter": "python",
   "pygments_lexer": "ipython3",
   "version": "3.9.12"
  }
 },
 "nbformat": 4,
 "nbformat_minor": 5
}
